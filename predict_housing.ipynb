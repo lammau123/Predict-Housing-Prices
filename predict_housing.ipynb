{
 "cells": [
  {
   "cell_type": "markdown",
   "id": "b9435d58",
   "metadata": {},
   "source": [
    "# Predict Housing Prices Using a Simple Linear Regression Model"
   ]
  },
  {
   "cell_type": "markdown",
   "id": "d436f7f1",
   "metadata": {},
   "source": [
    "## Installing kaggle library"
   ]
  },
  {
   "cell_type": "code",
   "execution_count": null,
   "id": "11a09cc5",
   "metadata": {},
   "outputs": [],
   "source": [
    "!pip install kaggle"
   ]
  },
  {
   "cell_type": "markdown",
   "id": "0e5fcfe6",
   "metadata": {},
   "source": [
    "## Reading kaggle username and key and Keep them in Environment Variables"
   ]
  },
  {
   "cell_type": "code",
   "execution_count": null,
   "id": "aa27af12",
   "metadata": {},
   "outputs": [],
   "source": [
    "import json\n",
    "import os\n",
    "\n",
    "# Upload kaggle.json to the same directory as your notebook\n",
    "with open('kaggle.json') as f:\n",
    "    kaggle_token = json.load(f)\n",
    "\n",
    "os.environ['KAGGLE_USERNAME'] = kaggle_token['username']\n",
    "os.environ['KAGGLE_KEY'] = kaggle_token['key']\n"
   ]
  },
  {
   "cell_type": "markdown",
   "id": "41a1ec5b",
   "metadata": {},
   "source": [
    "## Downloading the boston house prices datatset from Kaggle using the Username and key"
   ]
  },
  {
   "cell_type": "code",
   "execution_count": null,
   "id": "ab4815af",
   "metadata": {},
   "outputs": [],
   "source": [
    "!kaggle competitions download -c house-prices-advanced-regression-techniques"
   ]
  },
  {
   "cell_type": "markdown",
   "id": "9ff7536b",
   "metadata": {},
   "source": [
    "## Extracting the boston house prices dataset"
   ]
  },
  {
   "cell_type": "code",
   "execution_count": null,
   "id": "377500db",
   "metadata": {},
   "outputs": [],
   "source": [
    "import zipfile\n",
    "\n",
    "with zipfile.ZipFile('house-prices-advanced-regression-techniques.zip', 'r') as zip_ref:\n",
    "    zip_ref.extractall('boston_housing_dataset')"
   ]
  },
  {
   "cell_type": "markdown",
   "id": "92bb2593",
   "metadata": {},
   "source": [
    "## Importing the libraries "
   ]
  },
  {
   "cell_type": "code",
   "execution_count": 784,
   "id": "73bd0b32",
   "metadata": {},
   "outputs": [],
   "source": [
    "import numpy as np\n",
    "import matplotlib.pyplot as plt\n",
    "import pandas as pd"
   ]
  },
  {
   "cell_type": "markdown",
   "id": "8c41aeca",
   "metadata": {},
   "source": [
    "## Importing the dataset"
   ]
  },
  {
   "cell_type": "code",
   "execution_count": 785,
   "id": "7c390469",
   "metadata": {},
   "outputs": [],
   "source": [
    "df = pd.read_csv('./boston_housing_dataset/train.csv')"
   ]
  },
  {
   "cell_type": "markdown",
   "id": "6931bb7d",
   "metadata": {},
   "source": [
    "## Preprocessing Data"
   ]
  },
  {
   "cell_type": "code",
   "execution_count": 786,
   "id": "c2976ba3",
   "metadata": {},
   "outputs": [],
   "source": [
    "# filling NaN data mapping\n",
    "na_mapping = {\n",
    "    'None_Alley': ['Alley'],\n",
    "    'Veneer': ['MasVnrType'],\n",
    "    'NE': ['Electrical'],\n",
    "    'NF': ['FireplaceQu', 'Fence', 'MiscFeature'],\n",
    "    'NP': ['PoolQC'],\n",
    "    'NB': ['BsmtQual', 'BsmtCond', 'BsmtExposure', 'BsmtFinType1', 'BsmtFinType2', 'Electrical'],\n",
    "    'NG': ['GarageType', 'GarageQual', 'GarageCond', 'GarageFinish'],\n",
    "    0: ['GarageYrBlt']\n",
    "}\n",
    "# dropping MasVnrArea rows which have NaN value. There are about 8 rows < 1%\n",
    "df.dropna(axis=0, subset=['MasVnrArea'], inplace=True)\n",
    "\n",
    "# Filling NaN data with mean value\n",
    "df['LotFrontage'] = df.groupby('MSZoning')['LotFrontage'].transform(lambda x: x.fillna(x.mean()))\n",
    "\n",
    "# Filling NaN data based on the mapping dictionary\n",
    "for value, columns in na_mapping.items():\n",
    "    df[columns] = df[columns].apply(lambda x: x.fillna(value))"
   ]
  },
  {
   "cell_type": "markdown",
   "id": "457a55ba",
   "metadata": {},
   "source": [
    "## Encoding Ordinal Categories Data"
   ]
  },
  {
   "cell_type": "code",
   "execution_count": 787,
   "id": "412756cd",
   "metadata": {},
   "outputs": [],
   "source": [
    "import pandas as pd\n",
    "from sklearn.preprocessing import OrdinalEncoder\n",
    "\n",
    "# Define the order for each ordinal feature\n",
    "categories = [\n",
    "    # PoolQC \n",
    "    ['NP', 'Fa', 'TA', 'Gd', 'Ex'],\n",
    "    # GarageCond\n",
    "    ['NG', 'Po', 'Fa', 'TA', 'Gd', 'Ex'],\n",
    "    # GarageQual\n",
    "    ['NG', 'Po', 'Fa', 'TA', 'Gd', 'Ex'],\n",
    "    # FireplaceQu\n",
    "    ['NF', 'Po', 'Fa', 'TA', 'Gd', 'Ex'],\n",
    "    # KitchenQual\n",
    "    ['Po', 'Fa', 'TA', 'Gd', 'Ex'],\n",
    "    # HeatingQC\n",
    "    ['Po', 'Fa', 'TA', 'Gd', 'Ex'],\n",
    "    # ExterCond\n",
    "    ['Po', 'Fa', 'TA', 'Gd', 'Ex'],\n",
    "    # ExterQual\n",
    "    ['Po', 'Fa', 'TA', 'Gd', 'Ex']  \n",
    "]\n",
    "columns = ['PoolQC', 'GarageCond', 'GarageQual', 'FireplaceQu', 'KitchenQual', 'HeatingQC', 'ExterCond', 'ExterQual']\n",
    "\n",
    "# Initialize the OrdinalEncoder with the specified orders\n",
    "encoder = OrdinalEncoder(categories=categories)\n",
    "\n",
    "# Fit and transform the data\n",
    "df[columns] = encoder.fit_transform(df[columns])"
   ]
  },
  {
   "cell_type": "markdown",
   "id": "a00f6f07",
   "metadata": {},
   "source": [
    "## Encoding Nominal Categories Data"
   ]
  },
  {
   "cell_type": "code",
   "execution_count": 788,
   "id": "0fecf7df",
   "metadata": {
    "scrolled": false
   },
   "outputs": [],
   "source": [
    "columns = ['MSZoning', 'Street', 'Alley', 'LotShape', 'LandContour', 'Utilities', \n",
    "           'LotConfig', 'LandSlope', 'Neighborhood', 'Condition1', 'Condition2', \n",
    "           'BldgType', 'HouseStyle', 'RoofStyle', 'RoofMatl', 'Exterior1st', \n",
    "           'Exterior2nd', 'MasVnrType', 'Foundation', 'BsmtQual', 'BsmtCond', \n",
    "           'BsmtExposure', 'BsmtFinType1', 'BsmtFinType2', 'Heating', 'CentralAir',\n",
    "           'Electrical', 'Functional', 'GarageType', 'GarageFinish', \n",
    "           'PavedDrive','Fence', 'MiscFeature', 'SaleType', 'SaleCondition']\n",
    "df = pd.get_dummies(df, columns=columns, dtype='int')"
   ]
  },
  {
   "cell_type": "markdown",
   "id": "89eb40bd",
   "metadata": {},
   "source": [
    "## Processing Skewness Data\n",
    "\n",
    "Some feautures in the dataset are skewed so applying np.log or np.sqrt\n",
    "to try to reduce the skewness and hoping impoving the performance of the\n",
    "model. Below cell is an visualization of skewness of SalePrice and appying\n",
    "np.log "
   ]
  },
  {
   "cell_type": "code",
   "execution_count": 789,
   "id": "d84a503a",
   "metadata": {},
   "outputs": [
    {
     "data": {
      "image/png": "[encoded data removed]",
      "text/plain": [
       "<Figure size 1200x500 with 2 Axes>"
      ]
     },
     "metadata": {},
     "output_type": "display_data"
    }
   ],
   "source": [
    "import matplotlib.pyplot as plt\n",
    "\n",
    "# Create histogram before log scaling\n",
    "plt.figure(figsize=(12, 5))\n",
    "\n",
    "plt.subplot(1, 2, 1)\n",
    "plt.hist(x=df['SalePrice'], bins=10, edgecolor='black')\n",
    "plt.title('Histogram of SalePrice (Before Log Scaling)')\n",
    "plt.xlabel('SalePrice')\n",
    "plt.ylabel('Frequency')\n",
    "\n",
    "# Apply log transformation\n",
    "log_df = np.log(df['SalePrice'])\n",
    "\n",
    "# Create histogram after log scaling\n",
    "plt.subplot(1, 2, 2)\n",
    "plt.hist(x=log_df, bins=10, edgecolor='black')\n",
    "plt.title('Histogram of SalePrice (After Log Scaling)')\n",
    "plt.xlabel('Log of SalePrice')\n",
    "plt.ylabel('Frequency')\n",
    "\n",
    "# Show the plots\n",
    "plt.tight_layout()\n",
    "plt.show()"
   ]
  },
  {
   "cell_type": "code",
   "execution_count": 790,
   "id": "3a2f5188",
   "metadata": {},
   "outputs": [],
   "source": [
    "# a list of columns are going to be applied np.log\n",
    "log_columns = ['LotArea', '1stFlrSF', 'GrLivArea', 'LotFrontage']\n",
    "\n",
    "# a list of columns are going to be applied np.sqrt\n",
    "sqrt_columns = ['MasVnrArea', 'BsmtUnfSF', 'BsmtFinSF1', '2ndFlrSF', \n",
    "                'WoodDeckSF', 'OpenPorchSF', 'EnclosedPorch', 'ScreenPorch', '3SsnPorch']\n",
    "\n",
    "# applying np.log to the dataset\n",
    "for log_column in log_columns:\n",
    "    df[log_column] = np.log(df[log_column])\n",
    "    \n",
    "# applying np.sqlt to the dataset\n",
    "for sqrt_column in sqrt_columns:\n",
    "    df[sqrt_column] = np.sqrt(df[sqrt_column])"
   ]
  },
  {
   "cell_type": "markdown",
   "id": "f86799f7",
   "metadata": {},
   "source": [
    "## Splitting the dataset into the Training set and Test set"
   ]
  },
  {
   "cell_type": "code",
   "execution_count": 791,
   "id": "ffd8dd4e",
   "metadata": {},
   "outputs": [],
   "source": [
    "from sklearn.model_selection import train_test_split\n",
    "\n",
    "drop_columns = ['Id', 'SalePrice', 'ScreenPorch',  'EnclosedPorch',\n",
    "               'BsmtFinSF2']\n",
    "\n",
    "y = df['SalePrice'].values\n",
    "X = df.drop(columns=drop_columns).values\n",
    "X_train, X_test, y_train, y_test = train_test_split(X, y, test_size = 0.2, random_state = 0)\n",
    "\n",
    "# fix skewness on the Target feature\n",
    "y_train = np.log(y_train)"
   ]
  },
  {
   "cell_type": "markdown",
   "id": "c8541e8e",
   "metadata": {},
   "source": [
    "## Feature Scaling\n",
    "Performing feature scaling on MSSubClass feature"
   ]
  },
  {
   "cell_type": "code",
   "execution_count": 792,
   "id": "1585f813",
   "metadata": {},
   "outputs": [],
   "source": [
    "import pandas as pd\n",
    "from sklearn.preprocessing import MinMaxScaler\n",
    "\n",
    "# Initialize the MinMaxScaler\n",
    "scaler = MinMaxScaler()\n",
    "\n",
    "# Fit and transform the data\n",
    "X_train[:, 0:1] = scaler.fit_transform(X_train[:, 0:1])\n",
    "X_test[:, 0:1] = scaler.transform(X_test[:, 0:1])"
   ]
  },
  {
   "cell_type": "markdown",
   "id": "bf8354a7",
   "metadata": {},
   "source": [
    "## Perfoming Cross validation to check the everage accuracy of the model with the dataset"
   ]
  },
  {
   "cell_type": "code",
   "execution_count": 793,
   "id": "8f9d682c",
   "metadata": {},
   "outputs": [
    {
     "name": "stdout",
     "output_type": "stream",
     "text": [
      "Cross-validation scores: [0.91 0.73 0.8  0.91 0.88]\n",
      "Accuracy: 84.82 %\n",
      "Standard Deviation: 6.99 %\n"
     ]
    }
   ],
   "source": [
    "from sklearn.model_selection import cross_val_score\n",
    "\n",
    "accuracies = cross_val_score(estimator = LinearRegression(), X = X_train, y = y_train, cv = 5)\n",
    "print(\"Cross-validation scores:\", accuracies)\n",
    "print(\"Accuracy: {:.2f} %\".format(accuracies.mean()*100))\n",
    "print(\"Standard Deviation: {:.2f} %\".format(accuracies.std()*100))"
   ]
  },
  {
   "cell_type": "markdown",
   "id": "8411cc56",
   "metadata": {},
   "source": [
    "## Training the LinearRegression model on the Training set"
   ]
  },
  {
   "cell_type": "code",
   "execution_count": 794,
   "id": "d7eeee00",
   "metadata": {},
   "outputs": [
    {
     "data": {
      "text/html": [
       "<style>#sk-container-id-36 {color: black;}#sk-container-id-36 pre{padding: 0;}#sk-container-id-36 div.sk-toggleable {background-color: white;}#sk-container-id-36 label.sk-toggleable__label {cursor: pointer;display: block;width: 100%;margin-bottom: 0;padding: 0.3em;box-sizing: border-box;text-align: center;}#sk-container-id-36 label.sk-toggleable__label-arrow:before {content: \"▸\";float: left;margin-right: 0.25em;color: #696969;}#sk-container-id-36 label.sk-toggleable__label-arrow:hover:before {color: black;}#sk-container-id-36 div.sk-estimator:hover label.sk-toggleable__label-arrow:before {color: black;}#sk-container-id-36 div.sk-toggleable__content {max-height: 0;max-width: 0;overflow: hidden;text-align: left;background-color: #f0f8ff;}#sk-container-id-36 div.sk-toggleable__content pre {margin: 0.2em;color: black;border-radius: 0.25em;background-color: #f0f8ff;}#sk-container-id-36 input.sk-toggleable__control:checked~div.sk-toggleable__content {max-height: 200px;max-width: 100%;overflow: auto;}#sk-container-id-36 input.sk-toggleable__control:checked~label.sk-toggleable__label-arrow:before {content: \"▾\";}#sk-container-id-36 div.sk-estimator input.sk-toggleable__control:checked~label.sk-toggleable__label {background-color: #d4ebff;}#sk-container-id-36 div.sk-label input.sk-toggleable__control:checked~label.sk-toggleable__label {background-color: #d4ebff;}#sk-container-id-36 input.sk-hidden--visually {border: 0;clip: rect(1px 1px 1px 1px);clip: rect(1px, 1px, 1px, 1px);height: 1px;margin: -1px;overflow: hidden;padding: 0;position: absolute;width: 1px;}#sk-container-id-36 div.sk-estimator {font-family: monospace;background-color: #f0f8ff;border: 1px dotted black;border-radius: 0.25em;box-sizing: border-box;margin-bottom: 0.5em;}#sk-container-id-36 div.sk-estimator:hover {background-color: #d4ebff;}#sk-container-id-36 div.sk-parallel-item::after {content: \"\";width: 100%;border-bottom: 1px solid gray;flex-grow: 1;}#sk-container-id-36 div.sk-label:hover label.sk-toggleable__label {background-color: #d4ebff;}#sk-container-id-36 div.sk-serial::before {content: \"\";position: absolute;border-left: 1px solid gray;box-sizing: border-box;top: 0;bottom: 0;left: 50%;z-index: 0;}#sk-container-id-36 div.sk-serial {display: flex;flex-direction: column;align-items: center;background-color: white;padding-right: 0.2em;padding-left: 0.2em;position: relative;}#sk-container-id-36 div.sk-item {position: relative;z-index: 1;}#sk-container-id-36 div.sk-parallel {display: flex;align-items: stretch;justify-content: center;background-color: white;position: relative;}#sk-container-id-36 div.sk-item::before, #sk-container-id-36 div.sk-parallel-item::before {content: \"\";position: absolute;border-left: 1px solid gray;box-sizing: border-box;top: 0;bottom: 0;left: 50%;z-index: -1;}#sk-container-id-36 div.sk-parallel-item {display: flex;flex-direction: column;z-index: 1;position: relative;background-color: white;}#sk-container-id-36 div.sk-parallel-item:first-child::after {align-self: flex-end;width: 50%;}#sk-container-id-36 div.sk-parallel-item:last-child::after {align-self: flex-start;width: 50%;}#sk-container-id-36 div.sk-parallel-item:only-child::after {width: 0;}#sk-container-id-36 div.sk-dashed-wrapped {border: 1px dashed gray;margin: 0 0.4em 0.5em 0.4em;box-sizing: border-box;padding-bottom: 0.4em;background-color: white;}#sk-container-id-36 div.sk-label label {font-family: monospace;font-weight: bold;display: inline-block;line-height: 1.2em;}#sk-container-id-36 div.sk-label-container {text-align: center;}#sk-container-id-36 div.sk-container {/* jupyter's `normalize.less` sets `[hidden] { display: none; }` but bootstrap.min.css set `[hidden] { display: none !important; }` so we also need the `!important` here to be able to override the default hidden behavior on the sphinx rendered scikit-learn.org. See: https://github.com/scikit-learn/scikit-learn/issues/21755 */display: inline-block !important;position: relative;}#sk-container-id-36 div.sk-text-repr-fallback {display: none;}</style><div id=\"sk-container-id-36\" class=\"sk-top-container\"><div class=\"sk-text-repr-fallback\"><pre>LinearRegression()</pre><b>In a Jupyter environment, please rerun this cell to show the HTML representation or trust the notebook. <br />On GitHub, the HTML representation is unable to render, please try loading this page with nbviewer.org.</b></div><div class=\"sk-container\" hidden><div class=\"sk-item\"><div class=\"sk-estimator sk-toggleable\"><input class=\"sk-toggleable__control sk-hidden--visually\" id=\"sk-estimator-id-36\" type=\"checkbox\" checked><label for=\"sk-estimator-id-36\" class=\"sk-toggleable__label sk-toggleable__label-arrow\">LinearRegression</label><div class=\"sk-toggleable__content\"><pre>LinearRegression()</pre></div></div></div></div></div>"
      ],
      "text/plain": [
       "LinearRegression()"
      ]
     },
     "execution_count": 794,
     "metadata": {},
     "output_type": "execute_result"
    }
   ],
   "source": [
    "from sklearn.linear_model import LinearRegression\n",
    "\n",
    "regressor = LinearRegression()\n",
    "regressor.fit(X_train, y_train)"
   ]
  },
  {
   "cell_type": "markdown",
   "id": "510f3cea",
   "metadata": {},
   "source": [
    "## Model Evaluation"
   ]
  },
  {
   "cell_type": "code",
   "execution_count": 795,
   "id": "5999ebb7",
   "metadata": {},
   "outputs": [
    {
     "name": "stdout",
     "output_type": "stream",
     "text": [
      "Mean Absolute Error (MAE): 15662.02\n",
      "Root Mean Squared Error (RMSE): 26645.00\n",
      "R-squared (R²): 0.89\n"
     ]
    }
   ],
   "source": [
    "from sklearn.metrics import mean_absolute_error, mean_squared_error, r2_score\n",
    "\n",
    "y_pred_log = regressor.predict(X_test)\n",
    "y_pred = np.exp(y_pred_log)\n",
    "# Evaluate the model's performance\n",
    "mae = mean_absolute_error(y_test, y_pred)\n",
    "mse = mean_squared_error(y_test, y_pred)\n",
    "rmse = np.sqrt(mse)\n",
    "r2 = r2_score(y_test, y_pred)\n",
    "\n",
    "# Output the evaluation metrics in a readable format\n",
    "print(f\"Mean Absolute Error (MAE): {mae:.2f}\")\n",
    "print(f\"Root Mean Squared Error (RMSE): {rmse:.2f}\")\n",
    "print(f\"R-squared (R²): {r2:.2f}\")"
   ]
  },
  {
   "cell_type": "markdown",
   "id": "dba4f880",
   "metadata": {},
   "source": [
    "## Prediction"
   ]
  },
  {
   "cell_type": "code",
   "execution_count": 796,
   "id": "f9491edc",
   "metadata": {},
   "outputs": [
    {
     "data": {
      "text/html": [
       "<div>\n",
       "<style scoped>\n",
       "    .dataframe tbody tr th:only-of-type {\n",
       "        vertical-align: middle;\n",
       "    }\n",
       "\n",
       "    .dataframe tbody tr th {\n",
       "        vertical-align: top;\n",
       "    }\n",
       "\n",
       "    .dataframe thead th {\n",
       "        text-align: right;\n",
       "    }\n",
       "</style>\n",
       "<table border=\"1\" class=\"dataframe\">\n",
       "  <thead>\n",
       "    <tr style=\"text-align: right;\">\n",
       "      <th></th>\n",
       "      <th>Predicted Price</th>\n",
       "      <th>Price</th>\n",
       "    </tr>\n",
       "  </thead>\n",
       "  <tbody>\n",
       "    <tr>\n",
       "      <th>0</th>\n",
       "      <td>150658.763217</td>\n",
       "      <td>164000</td>\n",
       "    </tr>\n",
       "    <tr>\n",
       "      <th>1</th>\n",
       "      <td>229052.811259</td>\n",
       "      <td>225000</td>\n",
       "    </tr>\n",
       "    <tr>\n",
       "      <th>2</th>\n",
       "      <td>137070.121248</td>\n",
       "      <td>241500</td>\n",
       "    </tr>\n",
       "    <tr>\n",
       "      <th>3</th>\n",
       "      <td>214404.523868</td>\n",
       "      <td>192000</td>\n",
       "    </tr>\n",
       "  </tbody>\n",
       "</table>\n",
       "</div>"
      ],
      "text/plain": [
       "   Predicted Price   Price\n",
       "0    150658.763217  164000\n",
       "1    229052.811259  225000\n",
       "2    137070.121248  241500\n",
       "3    214404.523868  192000"
      ]
     },
     "execution_count": 796,
     "metadata": {},
     "output_type": "execute_result"
    }
   ],
   "source": [
    "y_pred_log = regressor.predict(X_test[1: 5, :])\n",
    "y_pred = np.exp(y_pred_log)\n",
    "y_test_selected = y_test[1: 5]\n",
    "data = {\"Predicted Price\": y_pred, \"Price\": y_test_selected}\n",
    "data_df = pd.DataFrame(data)\n",
    "data_df"
   ]
  },
  {
   "cell_type": "markdown",
   "id": "2e0c3afc",
   "metadata": {},
   "source": [
    "# Summary:\n",
    "\n",
    "#### The R-squared (R²): 0.89 \n",
    "means that the dataset fixing with the model well.\n",
    "\n",
    "#### Mean Absolute Error (MAE): 15816.61 \n",
    "means the predicted house price might be approximately between:\n",
    "house price = [predicted house price] − 15,816.61\n",
    "and\n",
    "house price = [predicted house price] + 15,816.61\n",
    "\n",
    "#### Root Mean Squared Error (RMSE)\n",
    "means\n",
    "\n",
    "Percentage RMSE= (RMSE*100)/Average_house_price = 14.84%, the errors model’s predictions are about 14.84%"
   ]
  }
 ],
 "metadata": {
  "kernelspec": {
   "display_name": "Python 3 (ipykernel)",
   "language": "python",
   "name": "python3"
  },
  "language_info": {
   "codemirror_mode": {
    "name": "ipython",
    "version": 3
   },
   "file_extension": ".py",
   "mimetype": "text/x-python",
   "name": "python",
   "nbconvert_exporter": "python",
   "pygments_lexer": "ipython3",
   "version": "3.11.5"
  }
 },
 "nbformat": 4,
 "nbformat_minor": 5
}
